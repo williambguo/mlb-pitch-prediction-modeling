{
 "cells": [
  {
   "cell_type": "markdown",
   "metadata": {},
   "source": [
    "# LSTM"
   ]
  },
  {
   "cell_type": "markdown",
   "metadata": {},
   "source": [
    "Experimenting with LSTM."
   ]
  },
  {
   "cell_type": "code",
   "execution_count": 8,
   "metadata": {},
   "outputs": [],
   "source": [
    "import pandas as pd\n",
    "import numpy as np\n",
    "from sklearn.model_selection import train_test_split\n",
    "from sklearn.preprocessing import LabelEncoder, StandardScaler\n",
    "from tensorflow.keras.models import Sequential\n",
    "from tensorflow.keras.layers import LSTM, Dense, Dropout\n",
    "from tensorflow.keras.utils import to_categorical"
   ]
  },
  {
   "cell_type": "code",
   "execution_count": 17,
   "metadata": {},
   "outputs": [],
   "source": [
    "file_path = \"../data/final/pitch_by_pitch_2023_lstm.csv\"\n",
    "data = pd.read_csv(file_path)"
   ]
  },
  {
   "cell_type": "code",
   "execution_count": 15,
   "metadata": {},
   "outputs": [
    {
     "name": "stdout",
     "output_type": "stream",
     "text": [
      "<class 'pandas.core.frame.DataFrame'>\n",
      "RangeIndex: 503292 entries, 0 to 503291\n",
      "Data columns (total 25 columns):\n",
      " #   Column                             Non-Null Count   Dtype  \n",
      "---  ------                             --------------   -----  \n",
      " 0   pitch_type                         503260 non-null  object \n",
      " 1   release_speed                      503292 non-null  float64\n",
      " 2   batter                             503292 non-null  int64  \n",
      " 3   pitcher                            503292 non-null  int64  \n",
      " 4   zone                               503292 non-null  float64\n",
      " 5   balls                              503292 non-null  int64  \n",
      " 6   strikes                            503292 non-null  int64  \n",
      " 7   on_3b                              503292 non-null  int64  \n",
      " 8   on_2b                              503292 non-null  int64  \n",
      " 9   on_1b                              503292 non-null  int64  \n",
      " 10  outs_when_up                       503292 non-null  int64  \n",
      " 11  inning                             503292 non-null  int64  \n",
      " 12  vy0                                503292 non-null  float64\n",
      " 13  game_pk                            503292 non-null  int64  \n",
      " 14  at_bat_number                      503292 non-null  int64  \n",
      " 15  pitch_number                       503292 non-null  int64  \n",
      " 16  age_pit                            503292 non-null  int64  \n",
      " 17  age_bat                            503292 non-null  int64  \n",
      " 18  n_priorpa_thisgame_player_at_bat   503292 non-null  int64  \n",
      " 19  total_runners_on_base              503292 non-null  int64  \n",
      " 20  runners_in_scoring_position        503292 non-null  int64  \n",
      " 21  runners_in_scoring_position_2outs  503292 non-null  int64  \n",
      " 22  score_diff                         503292 non-null  int64  \n",
      " 23  month                              503292 non-null  int64  \n",
      " 24  stand_pitch_same_side              503292 non-null  int64  \n",
      "dtypes: float64(3), int64(21), object(1)\n",
      "memory usage: 96.0+ MB\n"
     ]
    }
   ],
   "source": [
    "data.info()"
   ]
  },
  {
   "cell_type": "code",
   "execution_count": 18,
   "metadata": {},
   "outputs": [],
   "source": [
    "data.drop(columns=['game_type', 'type', 'inning_topbot', 'if_fielding_alignment', 'of_fielding_alignment', 'count'], inplace=True)"
   ]
  },
  {
   "cell_type": "code",
   "execution_count": null,
   "metadata": {},
   "outputs": [],
   "source": [
    "# Preprocess the dataset\n",
    "# Assuming 'pitch_type' is the target variable and others are features\n",
    "target = 'pitch_type'\n",
    "features = [col for col in data.columns if col != target]\n",
    "\n",
    "# Encode the target variable\n",
    "label_encoder = LabelEncoder()\n",
    "data[target] = label_encoder.fit_transform(data[target])\n",
    "\n",
    "# Normalize numerical features\n",
    "scaler = StandardScaler()\n",
    "data[features] = scaler.fit_transform(data[features])\n",
    "\n",
    "# Prepare sequences for LSTM\n",
    "sequence_length = 10\n",
    "X, y = [], []\n",
    "for i in range(len(data) - sequence_length):\n",
    "    X.append(data[features].iloc[i:i + sequence_length].values)\n",
    "    y.append(data[target].iloc[i + sequence_length])\n",
    "\n",
    "X = np.array(X)\n",
    "y = np.array(y)\n",
    "\n",
    "# Convert target variable to categorical\n",
    "y = to_categorical(y)\n",
    "\n",
    "# Split the dataset\n",
    "X_train, X_temp, y_train, y_temp = train_test_split(X, y, test_size=0.3, random_state=42)\n",
    "X_val, X_test, y_val, y_test = train_test_split(X_temp, y_temp, test_size=0.5, random_state=42)\n",
    "\n",
    "# Build the LSTM model\n",
    "model = Sequential()\n",
    "model.add(LSTM(64, input_shape=(X_train.shape[1], X_train.shape[2]), return_sequences=True))\n",
    "model.add(Dropout(0.2))\n",
    "model.add(LSTM(32))\n",
    "model.add(Dropout(0.2))\n",
    "model.add(Dense(y.shape[1], activation='softmax'))\n",
    "\n",
    "# Compile the model\n",
    "model.compile(optimizer='adam', loss='categorical_crossentropy', metrics=['accuracy'])\n",
    "\n",
    "# Train the model\n",
    "history = model.fit(X_train, y_train, validation_data=(X_val, y_val), epochs=20, batch_size=32)\n",
    "\n",
    "# Evaluate the model\n",
    "loss, accuracy = model.evaluate(X_test, y_test)\n",
    "print(f\"Test Accuracy: {accuracy:.2f}\")\n",
    "\n",
    "# Save the model (optional)\n",
    "model.save(\"pitch_type_prediction_lstm.h5\")"
   ]
  },
  {
   "cell_type": "markdown",
   "metadata": {},
   "source": [
    "The model with these configurations and the full pitch-by-pitch 2023 dataset takes too long to run locally on my laptop CPU."
   ]
  },
  {
   "cell_type": "code",
   "execution_count": null,
   "metadata": {},
   "outputs": [],
   "source": []
  }
 ],
 "metadata": {
  "kernelspec": {
   "display_name": "Python 3",
   "language": "python",
   "name": "python3"
  },
  "language_info": {
   "codemirror_mode": {
    "name": "ipython",
    "version": 3
   },
   "file_extension": ".py",
   "mimetype": "text/x-python",
   "name": "python",
   "nbconvert_exporter": "python",
   "pygments_lexer": "ipython3",
   "version": "3.10.15"
  }
 },
 "nbformat": 4,
 "nbformat_minor": 2
}
