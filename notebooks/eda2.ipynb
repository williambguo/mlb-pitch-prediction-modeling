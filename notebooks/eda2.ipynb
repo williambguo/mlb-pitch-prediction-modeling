{
 "cells": [
  {
   "cell_type": "markdown",
   "metadata": {},
   "source": [
    "# More EDA"
   ]
  },
  {
   "cell_type": "markdown",
   "metadata": {},
   "source": [
    "Additional EDA after some data proprocessing."
   ]
  },
  {
   "cell_type": "code",
   "execution_count": 6,
   "metadata": {},
   "outputs": [],
   "source": [
    "import pybaseball\n",
    "import pandas as pd\n",
    "import numpy as np \n",
    "import matplotlib.pyplot as plt\n",
    "import seaborn as sns\n",
    "from datetime import datetime, timedelta\n",
    "\n",
    "from pybaseball import playerid_reverse_lookup"
   ]
  },
  {
   "cell_type": "code",
   "execution_count": 5,
   "metadata": {},
   "outputs": [],
   "source": [
    "pbp2019 = pd.read_csv('../data/processed/pitch_by_pitch_2019_cleaned.csv')\n",
    "pbp2020 = pd.read_csv('../data/processed/pitch_by_pitch_2020_cleaned.csv')\n",
    "pbp2021 = pd.read_csv('../data/processed/pitch_by_pitch_2021_cleaned.csv')\n",
    "pbp2022 = pd.read_csv('../data/processed/pitch_by_pitch_2022_cleaned.csv')\n",
    "pbp2023 = pd.read_csv('../data/processed/pitch_by_pitch_2023_cleaned.csv')\n",
    "pbp2024 = pd.read_csv('../data/processed/pitch_by_pitch_2024_cleaned.csv')"
   ]
  },
  {
   "cell_type": "markdown",
   "metadata": {},
   "source": [
    "The pitch-by-pitch dataset is now down to 45 features after some data cleaning. Before doing feature engineering I need to have a better understanding of the kind of information my remaining features contain."
   ]
  },
  {
   "cell_type": "markdown",
   "metadata": {},
   "source": [
    "#### `pitcher`"
   ]
  },
  {
   "cell_type": "code",
   "execution_count": null,
   "metadata": {},
   "outputs": [
    {
     "data": {
      "text/plain": [
       "pitcher\n",
       "544931    3942\n",
       "543037    3910\n",
       "434378    3838\n",
       "571578    3719\n",
       "545333    3684\n",
       "          ... \n",
       "602922       4\n",
       "670078       3\n",
       "663399       2\n",
       "592407       1\n",
       "670579       1\n",
       "Name: count, Length: 883, dtype: int64"
      ]
     },
     "execution_count": 4,
     "metadata": {},
     "output_type": "execute_result"
    }
   ],
   "source": [
    "# Number of unique pitchers\n",
    "pbp2019['pitcher'].value_counts()"
   ]
  },
  {
   "cell_type": "code",
   "execution_count": 12,
   "metadata": {},
   "outputs": [
    {
     "data": {
      "text/html": [
       "<div>\n",
       "<style scoped>\n",
       "    .dataframe tbody tr th:only-of-type {\n",
       "        vertical-align: middle;\n",
       "    }\n",
       "\n",
       "    .dataframe tbody tr th {\n",
       "        vertical-align: top;\n",
       "    }\n",
       "\n",
       "    .dataframe thead th {\n",
       "        text-align: right;\n",
       "    }\n",
       "</style>\n",
       "<table border=\"1\" class=\"dataframe\">\n",
       "  <thead>\n",
       "    <tr style=\"text-align: right;\">\n",
       "      <th></th>\n",
       "      <th>name_last</th>\n",
       "      <th>name_first</th>\n",
       "      <th>key_mlbam</th>\n",
       "      <th>key_retro</th>\n",
       "      <th>key_bbref</th>\n",
       "      <th>key_fangraphs</th>\n",
       "      <th>mlb_played_first</th>\n",
       "      <th>mlb_played_last</th>\n",
       "    </tr>\n",
       "  </thead>\n",
       "  <tbody>\n",
       "    <tr>\n",
       "      <th>0</th>\n",
       "      <td>rondón</td>\n",
       "      <td>josé</td>\n",
       "      <td>602922</td>\n",
       "      <td>rondj002</td>\n",
       "      <td>rondojo02</td>\n",
       "      <td>14140</td>\n",
       "      <td>2016.0</td>\n",
       "      <td>2021.0</td>\n",
       "    </tr>\n",
       "  </tbody>\n",
       "</table>\n",
       "</div>"
      ],
      "text/plain": [
       "  name_last name_first  key_mlbam key_retro  key_bbref  key_fangraphs  \\\n",
       "0    rondón       josé     602922  rondj002  rondojo02          14140   \n",
       "\n",
       "   mlb_played_first  mlb_played_last  \n",
       "0            2016.0           2021.0  "
      ]
     },
     "execution_count": 12,
     "metadata": {},
     "output_type": "execute_result"
    }
   ],
   "source": [
    "playerid_reverse_lookup([670078, 670579, 602922], key_type='mlbam')"
   ]
  },
  {
   "cell_type": "code",
   "execution_count": 14,
   "metadata": {},
   "outputs": [
    {
     "data": {
      "text/plain": [
       "pitcher\n",
       "621111    3469\n",
       "554430    3383\n",
       "645261    3275\n",
       "425794    3268\n",
       "543135    3246\n",
       "          ... \n",
       "663853       4\n",
       "665155       4\n",
       "608686       3\n",
       "593643       2\n",
       "543726       2\n",
       "Name: count, Length: 1000, dtype: int64"
      ]
     },
     "execution_count": 14,
     "metadata": {},
     "output_type": "execute_result"
    }
   ],
   "source": [
    "pbp2021['pitcher'].value_counts()"
   ]
  },
  {
   "cell_type": "code",
   "execution_count": 17,
   "metadata": {},
   "outputs": [
    {
     "data": {
      "text/plain": [
       "pitcher\n",
       "686933    8\n",
       "607054    8\n",
       "661531    8\n",
       "687330    8\n",
       "689379    8\n",
       "650339    8\n",
       "671162    8\n",
       "673822    8\n",
       "688125    7\n",
       "664784    7\n",
       "701619    7\n",
       "624512    7\n",
       "657092    7\n",
       "600853    6\n",
       "594795    6\n",
       "669742    6\n",
       "545121    6\n",
       "595411    6\n",
       "669153    5\n",
       "623470    5\n",
       "676620    5\n",
       "594838    5\n",
       "592135    5\n",
       "643232    4\n",
       "502083    4\n",
       "642016    4\n",
       "664144    4\n",
       "503556    4\n",
       "687765    4\n",
       "602929    3\n",
       "679693    3\n",
       "676987    3\n",
       "675971    3\n",
       "676546    3\n",
       "672870    2\n",
       "687437    2\n",
       "656594    2\n",
       "518693    2\n",
       "592254    2\n",
       "662165    2\n",
       "675640    2\n",
       "680863    2\n",
       "686819    1\n",
       "453284    1\n",
       "677020    1\n",
       "694536    1\n",
       "682201    1\n",
       "642140    1\n",
       "573062    1\n",
       "668968    1\n",
       "Name: count, dtype: int64"
      ]
     },
     "execution_count": 17,
     "metadata": {},
     "output_type": "execute_result"
    }
   ],
   "source": [
    "pbp2022['pitcher'].value_counts().tail(50)"
   ]
  },
  {
   "cell_type": "markdown",
   "metadata": {},
   "source": []
  },
  {
   "cell_type": "code",
   "execution_count": null,
   "metadata": {},
   "outputs": [],
   "source": []
  }
 ],
 "metadata": {
  "kernelspec": {
   "display_name": "learn-env",
   "language": "python",
   "name": "python3"
  },
  "language_info": {
   "codemirror_mode": {
    "name": "ipython",
    "version": 3
   },
   "file_extension": ".py",
   "mimetype": "text/x-python",
   "name": "python",
   "nbconvert_exporter": "python",
   "pygments_lexer": "ipython3",
   "version": "3.12.2"
  }
 },
 "nbformat": 4,
 "nbformat_minor": 2
}
