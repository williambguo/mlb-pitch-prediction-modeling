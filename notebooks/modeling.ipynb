{
 "cells": [
  {
   "cell_type": "markdown",
   "metadata": {},
   "source": [
    "# Modeling"
   ]
  },
  {
   "cell_type": "code",
   "execution_count": 115,
   "metadata": {},
   "outputs": [],
   "source": [
    "# Import libraries\n",
    "import re \n",
    "import ast \n",
    "import json \n",
    "import pickle \n",
    "from collections import Counter \n",
    "import datetime as dt\n",
    "import pybaseball\n",
    "import pandas as pd\n",
    "import numpy as np \n",
    "import matplotlib.pyplot as plt\n",
    "import seaborn as sns\n",
    "from datetime import datetime, timedelta\n",
    "\n",
    "from pybaseball import pitching_stats_bref\n",
    "from pybaseball import statcast\n",
    "from pybaseball import statcast_pitcher\n",
    "from pybaseball import playerid_lookup\n",
    "from pybaseball import playerid_reverse_lookup\n",
    "\n",
    "from sklearn.model_selection import train_test_split, GridSearchCV\n",
    "from sklearn.preprocessing import LabelEncoder\n",
    "\n",
    "from sklearn.linear_model import LogisticRegression\n",
    "from sklearn.ensemble import RandomForestClassifier\n",
    "from sklearn.svm import SVC, LinearSVC\n",
    "from xgboost import XGBClassifier\n",
    "from sklearn.metrics import accuracy_score\n",
    "\n",
    "import warnings\n",
    "warnings.filterwarnings(\"ignore\")"
   ]
  },
  {
   "cell_type": "markdown",
   "metadata": {},
   "source": [
    "- XGBoost\n",
    "- Random Forest\n",
    "- RNN (LSTM or GRU or both)\n",
    "\n",
    "RNN will likely take too long depending on how the number of features."
   ]
  },
  {
   "cell_type": "code",
   "execution_count": 116,
   "metadata": {},
   "outputs": [],
   "source": [
    "data = pd.read_csv('../data/final/pitch_by_pitch_2023_ml.csv')"
   ]
  },
  {
   "cell_type": "code",
   "execution_count": 118,
   "metadata": {},
   "outputs": [],
   "source": [
    "data.drop(columns=['game_type', 'inning_topbot', 'if_fielding_alignment', 'of_fielding_alignment', 'count', 'game_pitcher_id'], inplace=True)"
   ]
  },
  {
   "cell_type": "code",
   "execution_count": 119,
   "metadata": {},
   "outputs": [],
   "source": [
    "data['prev_pitch_type'] = data['prev_pitch_type'].astype(str)"
   ]
  },
  {
   "cell_type": "code",
   "execution_count": 120,
   "metadata": {},
   "outputs": [],
   "source": [
    "data['prev_pitch_type'] = data['prev_pitch_type'].replace('nan', 'Unknown')"
   ]
  },
  {
   "cell_type": "code",
   "execution_count": 121,
   "metadata": {},
   "outputs": [],
   "source": [
    "# Drop all rows where prev_pitch_type is UN\n",
    "data = data[data.prev_pitch_type != 'Unknown']"
   ]
  },
  {
   "cell_type": "code",
   "execution_count": 122,
   "metadata": {},
   "outputs": [
    {
     "data": {
      "text/plain": [
       "pitch_type\n",
       "Fastball         286240\n",
       "Breaking Ball    150978\n",
       "Off-Speed         55266\n",
       "Specialty            66\n",
       "Name: count, dtype: int64"
      ]
     },
     "execution_count": 122,
     "metadata": {},
     "output_type": "execute_result"
    }
   ],
   "source": [
    "data['pitch_type'].value_counts()"
   ]
  },
  {
   "cell_type": "code",
   "execution_count": 123,
   "metadata": {},
   "outputs": [
    {
     "data": {
      "text/plain": [
       "prev_pitch_type\n",
       "Fastball         283970\n",
       "Breaking Ball    152355\n",
       "Off-Speed         56159\n",
       "Specialty            66\n",
       "Name: count, dtype: int64"
      ]
     },
     "execution_count": 123,
     "metadata": {},
     "output_type": "execute_result"
    }
   ],
   "source": [
    "data['prev_pitch_type'].value_counts()"
   ]
  },
  {
   "cell_type": "code",
   "execution_count": 124,
   "metadata": {},
   "outputs": [
    {
     "data": {
      "text/plain": [
       "0"
      ]
     },
     "execution_count": 124,
     "metadata": {},
     "output_type": "execute_result"
    }
   ],
   "source": [
    "data['pitch_type'].isna().sum()"
   ]
  },
  {
   "cell_type": "code",
   "execution_count": 198,
   "metadata": {},
   "outputs": [],
   "source": [
    "def preprocess_data(data):\n",
    "\n",
    "    data.drop(columns=['game_type', 'inning_topbot', 'if_fielding_alignment', 'of_fielding_alignment', 'count', 'game_pitcher_id'], inplace=True)\n",
    "    \n",
    "    data['prev_pitch_type'] = data['prev_pitch_type'].replace('nan', 'Unknown')\n",
    "    data = data[data.prev_pitch_type != 'Unknown']\n",
    "    \n",
    "    data['pitch_type'] = data['pitch_type'].astype(str)\n",
    "    data['prev_pitch_type'] = data['prev_pitch_type'].astype(str)\n",
    "\n",
    "    data = data[data.pitch_type != 'Specialty']\n",
    "    data = data[data.prev_pitch_type != 'Specialty']\n",
    "    \n",
    "    return data"
   ]
  },
  {
   "cell_type": "code",
   "execution_count": 131,
   "metadata": {},
   "outputs": [],
   "source": [
    "data2 = pd.read_csv('../data/final/five_2023_ml.csv')"
   ]
  },
  {
   "cell_type": "code",
   "execution_count": 132,
   "metadata": {},
   "outputs": [],
   "source": [
    "data2.drop(columns=['game_type', 'inning_topbot', 'if_fielding_alignment', 'of_fielding_alignment', 'count', 'game_pitcher_id'], inplace=True)"
   ]
  },
  {
   "cell_type": "code",
   "execution_count": 149,
   "metadata": {},
   "outputs": [],
   "source": [
    "data2['prev_pitch_type'] = data2['prev_pitch_type'].astype(str)"
   ]
  },
  {
   "cell_type": "code",
   "execution_count": 150,
   "metadata": {},
   "outputs": [],
   "source": [
    "data2['pitch_type'] = data2['pitch_type'].astype(str)"
   ]
  },
  {
   "cell_type": "code",
   "execution_count": 134,
   "metadata": {},
   "outputs": [],
   "source": [
    "data2['prev_pitch_type'] = data2['prev_pitch_type'].replace('nan', 'Unknown')"
   ]
  },
  {
   "cell_type": "code",
   "execution_count": 135,
   "metadata": {},
   "outputs": [],
   "source": [
    "# Drop all rows where prev_pitch_type is UN\n",
    "data2 = data2[data2.prev_pitch_type != 'Unknown']"
   ]
  },
  {
   "cell_type": "code",
   "execution_count": 200,
   "metadata": {},
   "outputs": [],
   "source": [
    "# Drop Specialty from both pitch_type and prev_pitch_type\n",
    "data2 = data2[data2.pitch_type != 'Specialty']\n",
    "data2 = data2[data2.prev_pitch_type != 'Specialty']"
   ]
  },
  {
   "cell_type": "code",
   "execution_count": 172,
   "metadata": {},
   "outputs": [
    {
     "data": {
      "text/plain": [
       "pitch_type\n",
       "PFastball        162370\n",
       "Breaking Ball    150978\n",
       "MFastball        123870\n",
       "Off-Speed         55266\n",
       "Specialty            66\n",
       "Name: count, dtype: int64"
      ]
     },
     "execution_count": 172,
     "metadata": {},
     "output_type": "execute_result"
    }
   ],
   "source": [
    "data2['pitch_type'].value_counts()"
   ]
  },
  {
   "cell_type": "code",
   "execution_count": 173,
   "metadata": {},
   "outputs": [
    {
     "data": {
      "text/plain": [
       "prev_pitch_type\n",
       "PFastball        160349\n",
       "Breaking Ball    152355\n",
       "MFastball        123621\n",
       "Off-Speed         56159\n",
       "Specialty            66\n",
       "Name: count, dtype: int64"
      ]
     },
     "execution_count": 173,
     "metadata": {},
     "output_type": "execute_result"
    }
   ],
   "source": [
    "data2['prev_pitch_type'].value_counts()"
   ]
  },
  {
   "cell_type": "markdown",
   "metadata": {},
   "source": [
    "## XGBoost"
   ]
  },
  {
   "cell_type": "markdown",
   "metadata": {},
   "source": [
    "Below I'm using the XGBoost algorithm to train pitcher-specific models for my goal of pitch prediction. The function loops through every pitcher who has pitched above the cutoff (default 1000 but can be manually set) and trains on"
   ]
  },
  {
   "cell_type": "code",
   "execution_count": 206,
   "metadata": {},
   "outputs": [],
   "source": [
    "def train_xgb_models(train_data, pitch_count_cutoff=1000):\n",
    "    '''\n",
    "    Function to train and test models for pitch prediction for individual pitchers\n",
    "    \n",
    "    train_data: a cleaned data frame\n",
    "    pitch_count_cutoff: a minimum number of pitches thrown  \n",
    "    \n",
    "    returns a pickled file for each pitcher that contains the model and some metadata for that pitcher\n",
    "    '''\n",
    "\n",
    "    # build a dict with pitch_id as key and total pitch count as value\n",
    "    pitcher_count_dict = dict(Counter(train_data['pitcher']))\n",
    "\n",
    "    # drop pitchers that don't have enough pitches to build a reliable model\n",
    "    pitcher_count_dict = {k:v for k, v in pitcher_count_dict.items() if v > pitch_count_cutoff}\n",
    "\n",
    "    # list of pitchers\n",
    "    pitcher_list = pitcher_count_dict.keys()\n",
    "    print(f\"Number of pitchers that make the cut: {len(pitcher_count_dict)}\")\n",
    "\n",
    "    # loop through the list of pitchers and train models\n",
    "    accuracy_list = []\n",
    "    naive_accuracy_list = []\n",
    "    num_skipped = 0\n",
    "    for i, pitcher in enumerate(pitcher_list):\n",
    "\n",
    "        # start a timer\n",
    "        start = dt.datetime.now()\n",
    "\n",
    "        df_pitcher = train_data[train_data['pitcher'] == pitcher]\n",
    "        df_pitcher.drop('pitcher', axis=1, inplace=True)\n",
    "\n",
    "        # get a unique list of the pitcher's pitches\n",
    "        pitch_types = list(set(list(df_pitcher['prev_pitch_type'].unique()) + list(df_pitcher['pitch_type'].unique())))\n",
    "        pitch_type_counts = Counter(df_pitcher['prev_pitch_type'])\n",
    "\n",
    "        # build maps for pitches to ints and ints back to pitches\n",
    "        pitch_map = {pitch_types[i]: i for i in range(len(pitch_types))}\n",
    "        pitch_unmap = {v: k for k, v in pitch_map.items()}\n",
    "\n",
    "        # map pitch types to ints\n",
    "        df_pitcher['pitch_type'] = df_pitcher['pitch_type'].apply(lambda x: pitch_map[x])\n",
    "        df_pitcher['prev_pitch_type'] = df_pitcher['prev_pitch_type'].apply(lambda x: pitch_map[x])\n",
    "\n",
    "        # split the dataframe into a feature set and an outcome column\n",
    "        X = df_pitcher.drop('pitch_type', axis=1)\n",
    "        y = df_pitcher['pitch_type']\n",
    "\n",
    "        # split the data into train/test sets\n",
    "        X_train, X_test, y_train, y_test = train_test_split(X, y, test_size=0.2, random_state=42)\n",
    "        \"\"\"\n",
    "        if len(np.unique(y_train)) > len(np.unique(y_test)):\n",
    "            unique_classes = len(y_train.unique())\n",
    "        else:\n",
    "            unique_classes = len(y_test.unique())\n",
    "        \n",
    "        if len(np.unique(y_train)) > len(np.unique(y_test)):\n",
    "            # Get all unique classes from y_train\n",
    "            all_classes = np.unique(y_train)\n",
    "\n",
    "            # Align the test labels with the training classes\n",
    "            y_test = pd.Categorical(y_test, categories=all_classes).codes\n",
    "        else:\n",
    "            # Get all unique classes from y_test\n",
    "            all_classes = np.unique(y_test)\n",
    "\n",
    "            # Align the training labels with the test classes\n",
    "            y_train = pd.Categorical(y_train, categories=all_classes).codes\n",
    "        \"\"\"\n",
    "        # ----------------------\n",
    "        # train an XGBoost model\n",
    "        # ----------------------\n",
    "\n",
    "        # small set of hyperparameters to optimize over\n",
    "        xgb_params = {\"max_depth\": (2, 5, 20),\n",
    "                      \"learning_rate\": (0.01, 0.1, 0.4)}\n",
    "        \n",
    "        # perform the paramater grid search using 5-fold cross validation\n",
    "        xgb_opt = GridSearchCV(XGBClassifier(objective='multi:softprob', num_class=len(pitch_type_counts)), \n",
    "                               param_grid=xgb_params, cv=5, scoring='accuracy', verbose=0, n_jobs=-1)\n",
    "\n",
    "        # perform fit and make predictions\n",
    "        xgb_opt.fit(X_train, y_train)\n",
    "        y_pred = xgb_opt.predict(X_test)\n",
    "        y_prob = xgb_opt.predict_proba(X_test)\n",
    "\n",
    "        # compute accuracy and store in a list for analyzing results later\n",
    "        accuracy = round(accuracy_score(y_test, y_pred) * 100, 1)\n",
    "        accuracy_list.append(accuracy)\n",
    "\n",
    "        # get and store the naive accuracy (accuracy from just predicting the most thrown pitch)\n",
    "        naive_accuracy = round(max(pitch_type_counts.values()) / sum(pitch_type_counts.values()) * 100., 1)\n",
    "        naive_accuracy_list.append(naive_accuracy)\n",
    "\n",
    "        # print some input/results for every 10th pitcher\n",
    "        if i % 10 == 0:\n",
    "            print()\n",
    "            print(f\"Pitcher ID: {pitcher}\")\n",
    "            print(f\"Pitcher's pitch map: {pitch_map}\")\n",
    "            print(f\"Pitcher's pitch counter: {dict(pitch_type_counts)}\")\n",
    "            print(f\"Number of data points in training: {X_train.shape[0]}\")\n",
    "            print(f\"Number of data points in testing: {X_test.shape[0]}\")\n",
    "            print(f\"Best params: {xgb_opt.best_params_}\")\n",
    "            print(f\"Total training time: {dt.datetime.now()-start}\")\n",
    "            print(f\"Naive accuracy: {naive_accuracy}\")\n",
    "            print(f\"XGBooost accuracy: {accuracy}\")\n",
    "\n",
    "\n",
    "        # ----------------------------------------------------------\n",
    "        # write out the pitchers model and metadata to a pickle file\n",
    "        # ----------------------------------------------------------\n",
    "\n",
    "        # things to store in the pitcher's model file:\n",
    "        #  1) the map and unmap for pitches (used for data clean-up in the prediction process)\n",
    "        #  2) trained model (used to make prediction)\n",
    "        #  3) accuracy on the test data (to include with pitch predictions so user can see how confident the model is)\n",
    "        model_out = {\n",
    "            \"pitcherID\": pitcher,\n",
    "            \"pitch_map\": pitch_map,\n",
    "            \"pitch_unmap\": pitch_unmap,\n",
    "            \"model\": xgb_opt,\n",
    "            \"model_accuracy\": accuracy\n",
    "        }\n",
    "\n",
    "        # pickle up the pitcher's model file\n",
    "        fpath = \"../data/pitcher_models/\" + str(pitcher) + \".pkl\"\n",
    "        with open(fpath, 'wb') as fobj:\n",
    "            pickle.dump(model_out, fobj)\n",
    "           \n",
    "    # return the accuracy lists so we can perform assessment \n",
    "    return accuracy_list, naive_accuracy_list"
   ]
  },
  {
   "cell_type": "markdown",
   "metadata": {},
   "source": [
    "---"
   ]
  },
  {
   "cell_type": "markdown",
   "metadata": {},
   "source": [
    "### Five categories 2023 season"
   ]
  },
  {
   "cell_type": "code",
   "execution_count": 212,
   "metadata": {},
   "outputs": [
    {
     "name": "stdout",
     "output_type": "stream",
     "text": [
      "Number of pitchers that make the cut: 65\n",
      "\n",
      "Pitcher ID: 622491\n",
      "Pitcher's pitch map: {'MFastball': 0, 'Breaking Ball': 1, 'Off-Speed': 2, 'PFastball': 3}\n",
      "Pitcher's pitch counter: {'MFastball': 556, 'PFastball': 1408, 'Breaking Ball': 710, 'Off-Speed': 500}\n",
      "Number of data points in training: 2539\n",
      "Number of data points in testing: 635\n",
      "Best params: {'learning_rate': 0.1, 'max_depth': 5}\n",
      "Total training time: 0:00:01.896866\n",
      "Naive accuracy: 44.4\n",
      "XGBooost accuracy: 80.6\n",
      "\n",
      "Pitcher ID: 605483\n",
      "Pitcher's pitch map: {'Breaking Ball': 0, 'Off-Speed': 1, 'PFastball': 2}\n",
      "Pitcher's pitch counter: {'Breaking Ball': 1042, 'PFastball': 1510, 'Off-Speed': 584}\n",
      "Number of data points in training: 2508\n",
      "Number of data points in testing: 628\n",
      "Best params: {'learning_rate': 0.1, 'max_depth': 5}\n",
      "Total training time: 0:00:00.992865\n",
      "Naive accuracy: 48.2\n",
      "XGBooost accuracy: 94.9\n",
      "\n",
      "Pitcher ID: 669302\n",
      "Pitcher's pitch map: {'Breaking Ball': 0, 'PFastball': 1, 'MFastball': 2}\n",
      "Pitcher's pitch counter: {'PFastball': 1192, 'Breaking Ball': 1259, 'MFastball': 439}\n",
      "Number of data points in training: 2312\n",
      "Number of data points in testing: 578\n",
      "Best params: {'learning_rate': 0.1, 'max_depth': 20}\n",
      "Total training time: 0:00:01.239717\n",
      "Naive accuracy: 43.6\n",
      "XGBooost accuracy: 94.3\n",
      "\n",
      "Pitcher ID: 448179\n",
      "Pitcher's pitch map: {'Breaking Ball': 0, 'Off-Speed': 1, 'PFastball': 2, 'MFastball': 3}\n",
      "Pitcher's pitch counter: {'PFastball': 828, 'Breaking Ball': 1105, 'MFastball': 471, 'Off-Speed': 57}\n",
      "Number of data points in training: 1968\n",
      "Number of data points in testing: 493\n",
      "Best params: {'learning_rate': 0.4, 'max_depth': 2}\n",
      "Total training time: 0:00:00.934701\n",
      "Naive accuracy: 44.9\n",
      "XGBooost accuracy: 94.1\n",
      "\n",
      "Pitcher ID: 656756\n",
      "Pitcher's pitch map: {'MFastball': 0, 'Breaking Ball': 1, 'Off-Speed': 2, 'PFastball': 3}\n",
      "Pitcher's pitch counter: {'Off-Speed': 734, 'PFastball': 394, 'MFastball': 1427, 'Breaking Ball': 787}\n",
      "Number of data points in training: 2673\n",
      "Number of data points in testing: 669\n",
      "Best params: {'learning_rate': 0.4, 'max_depth': 2}\n",
      "Total training time: 0:00:01.604355\n",
      "Naive accuracy: 42.7\n",
      "XGBooost accuracy: 87.0\n",
      "\n",
      "Pitcher ID: 669194\n",
      "Pitcher's pitch map: {'Breaking Ball': 0, 'Off-Speed': 1, 'PFastball': 2, 'MFastball': 3}\n",
      "Pitcher's pitch counter: {'PFastball': 1334, 'Breaking Ball': 465, 'Off-Speed': 317, 'MFastball': 318}\n",
      "Number of data points in training: 1947\n",
      "Number of data points in testing: 487\n",
      "Best params: {'learning_rate': 0.1, 'max_depth': 2}\n",
      "Total training time: 0:00:00.982244\n",
      "Naive accuracy: 54.8\n",
      "XGBooost accuracy: 94.5\n",
      "\n",
      "Pitcher ID: 579328\n",
      "Pitcher's pitch map: {'Breaking Ball': 0, 'Off-Speed': 1, 'PFastball': 2}\n",
      "Pitcher's pitch counter: {'PFastball': 1245, 'Off-Speed': 271, 'Breaking Ball': 1286}\n",
      "Number of data points in training: 2241\n",
      "Number of data points in testing: 561\n",
      "Best params: {'learning_rate': 0.1, 'max_depth': 20}\n",
      "Total training time: 0:00:01.337432\n",
      "Naive accuracy: 45.9\n",
      "XGBooost accuracy: 94.5\n"
     ]
    }
   ],
   "source": [
    "accuracy_list, naive_accuracy_list = train_xgb_models(data2, pitch_count_cutoff=2400)"
   ]
  },
  {
   "cell_type": "markdown",
   "metadata": {},
   "source": [
    "### Visualizing the results"
   ]
  },
  {
   "cell_type": "code",
   "execution_count": 232,
   "metadata": {},
   "outputs": [
    {
     "name": "stdout",
     "output_type": "stream",
     "text": [
      "Percentage of pitcher models with accuracy improvement over naive prediction: 100.0%\n"
     ]
    },
    {
     "data": {
      "image/png": "[encoded data removed]",
      "text/plain": [
       "<Figure size 1200x500 with 2 Axes>"
      ]
     },
     "metadata": {},
     "output_type": "display_data"
    }
   ],
   "source": [
    "accuracy_diff_list = [accuracy_list[i] - naive_accuracy_list[i] for i in range(len(accuracy_list))]\n",
    "pos_diff_list = [x for x in accuracy_diff_list if x > 0.]\n",
    "improve_pct = round(len(pos_diff_list) / len(accuracy_diff_list) * 100., 1)\n",
    "print(f\"Percentage of pitcher models with accuracy improvement over naive prediction: {improve_pct}%\")\n",
    "\n",
    "fig = plt.figure(figsize=(12,5))\n",
    "plt.subplot(1, 2, 1)\n",
    "plt.hist(accuracy_diff_list, bins=10, color='teal', edgecolor='black')\n",
    "plt.title(\"Accuracy Improvement with Model\")\n",
    "plt.ylabel(\"Frequency\")\n",
    "plt.xlabel(\"Accuracy\")\n",
    "\n",
    "plt.subplot(1, 2, 2)\n",
    "plt.hist(naive_accuracy_list, bins=10, label='Naive', color='orange', edgecolor='black')\n",
    "plt.hist(accuracy_list, bins=10, alpha=0.5, label='Model', color='dodgerblue', edgecolor='black')\n",
    "plt.title(\"Distribution of Model Predictions vs. Naive Predictions\")\n",
    "plt.ylabel(\"Frequency\")\n",
    "plt.xlabel(\"Accuracy\")\n",
    "plt.legend(loc='best')\n",
    "plt.show()"
   ]
  },
  {
   "cell_type": "markdown",
   "metadata": {},
   "source": [
    "---"
   ]
  },
  {
   "cell_type": "markdown",
   "metadata": {},
   "source": [
    "### Five categories 2024 season"
   ]
  },
  {
   "cell_type": "code",
   "execution_count": 195,
   "metadata": {},
   "outputs": [],
   "source": [
    "data3 = pd.read_csv('../data/final/five_2024_ml.csv')"
   ]
  },
  {
   "cell_type": "code",
   "execution_count": 197,
   "metadata": {},
   "outputs": [
    {
     "name": "stdout",
     "output_type": "stream",
     "text": [
      "<class 'pandas.core.frame.DataFrame'>\n",
      "RangeIndex: 500605 entries, 0 to 500604\n",
      "Data columns (total 32 columns):\n",
      " #   Column                             Non-Null Count   Dtype  \n",
      "---  ------                             --------------   -----  \n",
      " 0   pitch_type                         500605 non-null  object \n",
      " 1   release_speed                      500605 non-null  float64\n",
      " 2   batter                             500605 non-null  int64  \n",
      " 3   pitcher                            500605 non-null  int64  \n",
      " 4   game_type                          500605 non-null  object \n",
      " 5   balls                              500605 non-null  int64  \n",
      " 6   strikes                            500605 non-null  int64  \n",
      " 7   on_3b                              500605 non-null  int64  \n",
      " 8   on_2b                              500605 non-null  int64  \n",
      " 9   on_1b                              500605 non-null  int64  \n",
      " 10  outs_when_up                       500605 non-null  int64  \n",
      " 11  inning                             500605 non-null  int64  \n",
      " 12  inning_topbot                      500605 non-null  object \n",
      " 13  at_bat_number                      500605 non-null  int64  \n",
      " 14  pitch_number                       500605 non-null  int64  \n",
      " 15  if_fielding_alignment              500605 non-null  object \n",
      " 16  of_fielding_alignment              500605 non-null  object \n",
      " 17  age_pit                            500605 non-null  int64  \n",
      " 18  age_bat                            500605 non-null  int64  \n",
      " 19  n_priorpa_thisgame_player_at_bat   500605 non-null  int64  \n",
      " 20  count                              500605 non-null  object \n",
      " 21  total_runners_on_base              500605 non-null  int64  \n",
      " 22  runners_in_scoring_position        500605 non-null  int64  \n",
      " 23  runners_in_scoring_position_2outs  500605 non-null  int64  \n",
      " 24  score_diff                         500605 non-null  int64  \n",
      " 25  month                              500605 non-null  int64  \n",
      " 26  stand_pitch_same_side              500605 non-null  int64  \n",
      " 27  game_pitcher_id                    500605 non-null  object \n",
      " 28  prev_pitch_type                    500605 non-null  object \n",
      " 29  prev_pitch_outcome                 489575 non-null  float64\n",
      " 30  prev_zone                          489575 non-null  float64\n",
      " 31  prev_pitch_velocity                500586 non-null  float64\n",
      "dtypes: float64(4), int64(20), object(8)\n",
      "memory usage: 122.2+ MB\n"
     ]
    }
   ],
   "source": [
    "data3.info()"
   ]
  },
  {
   "cell_type": "code",
   "execution_count": null,
   "metadata": {},
   "outputs": [],
   "source": [
    "preprocess_data(data3)"
   ]
  },
  {
   "cell_type": "code",
   "execution_count": 219,
   "metadata": {},
   "outputs": [],
   "source": [
    "data3 = data3[data3.pitch_type != 'Specialty']\n",
    "data3 = data3[data3.prev_pitch_type != 'Specialty']"
   ]
  },
  {
   "cell_type": "code",
   "execution_count": 235,
   "metadata": {},
   "outputs": [],
   "source": [
    "def train_xgb_models_2024(train_data, pitch_count_cutoff=1000):\n",
    "    '''\n",
    "    Function to train and test models for pitch prediction for individual pitchers\n",
    "    \n",
    "    train_data: a cleaned data frame\n",
    "    pitch_count_cutoff: a minimum number of pitches thrown  \n",
    "    \n",
    "    returns a pickled file for each pitcher that contains the model and some metadata for that pitcher\n",
    "    '''\n",
    "\n",
    "    # build a dict with pitch_id as key and total pitch count as value\n",
    "    pitcher_count_dict = dict(Counter(train_data['pitcher']))\n",
    "\n",
    "    # drop pitchers that don't have enough pitches to build a reliable model\n",
    "    pitcher_count_dict = {k:v for k, v in pitcher_count_dict.items() if v > pitch_count_cutoff}\n",
    "\n",
    "    # list of pitchers\n",
    "    pitcher_list = pitcher_count_dict.keys()\n",
    "    print(f\"Number of pitchers that make the cut: {len(pitcher_count_dict)}\")\n",
    "\n",
    "    # loop through the list of pitchers and train models\n",
    "    accuracy_list = []\n",
    "    naive_accuracy_list = []\n",
    "    num_skipped = 0\n",
    "    for i, pitcher in enumerate(pitcher_list):\n",
    "\n",
    "        # start a timer\n",
    "        start = dt.datetime.now()\n",
    "\n",
    "        df_pitcher = train_data[train_data['pitcher'] == pitcher]\n",
    "        df_pitcher.drop('pitcher', axis=1, inplace=True)\n",
    "\n",
    "        # get a unique list of the pitcher's pitches\n",
    "        pitch_types = list(set(list(df_pitcher['prev_pitch_type'].unique()) + list(df_pitcher['pitch_type'].unique())))\n",
    "        pitch_type_counts = Counter(df_pitcher['prev_pitch_type'])\n",
    "\n",
    "        # build maps for pitches to ints and ints back to pitches\n",
    "        pitch_map = {pitch_types[i]: i for i in range(len(pitch_types))}\n",
    "        pitch_unmap = {v: k for k, v in pitch_map.items()}\n",
    "\n",
    "        # map pitch types to ints\n",
    "        df_pitcher['pitch_type'] = df_pitcher['pitch_type'].apply(lambda x: pitch_map[x])\n",
    "        df_pitcher['prev_pitch_type'] = df_pitcher['prev_pitch_type'].apply(lambda x: pitch_map[x])\n",
    "\n",
    "        # split the dataframe into a feature set and an outcome column\n",
    "        X = df_pitcher.drop('pitch_type', axis=1)\n",
    "        y = df_pitcher['pitch_type']\n",
    "\n",
    "        # split the data into train/test sets\n",
    "        X_train, X_test, y_train, y_test = train_test_split(X, y, test_size=0.2, random_state=42)\n",
    "\n",
    "        \n",
    "        if len(np.unique(y_train)) > len(np.unique(y_test)):\n",
    "            unique_classes = len(y_train.unique())\n",
    "        else:\n",
    "            unique_classes = len(y_test.unique())\n",
    "        \n",
    "        if len(np.unique(y_train)) > len(np.unique(y_test)):\n",
    "            # Get all unique classes from y_train\n",
    "            all_classes = np.unique(y_train)\n",
    "\n",
    "            # Align the test labels with the training classes\n",
    "            y_test = pd.Categorical(y_test, categories=all_classes).codes\n",
    "        else:\n",
    "            # Get all unique classes from y_test\n",
    "            all_classes = np.unique(y_test)\n",
    "\n",
    "            # Align the training labels with the test classes\n",
    "            y_train = pd.Categorical(y_train, categories=all_classes).codes\n",
    "            \n",
    "        \n",
    "\n",
    "        # ----------------------\n",
    "        # train an XGBoost model\n",
    "        # ----------------------\n",
    "\n",
    "        # small set of hyperparameters to optimize over\n",
    "        xgb_params = {\"max_depth\": (2, 5, 20),\n",
    "                      \"learning_rate\": (0.01, 0.1, 0.4)}\n",
    "        \n",
    "        # perform the paramater grid search using 5-fold cross validation\n",
    "        xgb_opt = GridSearchCV(XGBClassifier(objective='multi:softprob', num_class=len(pitch_type_counts)), \n",
    "                               param_grid=xgb_params, cv=5, scoring='accuracy', verbose=0, n_jobs=-1)\n",
    "\n",
    "        # perform fit and make predictions\n",
    "        xgb_opt.fit(X_train, y_train)\n",
    "        y_pred = xgb_opt.predict(X_test)\n",
    "        y_prob = xgb_opt.predict_proba(X_test)\n",
    "\n",
    "        # compute accuracy and store in a list for analyzing results later\n",
    "        accuracy = round(accuracy_score(y_test, y_pred) * 100, 1)\n",
    "        accuracy_list.append(accuracy)\n",
    "\n",
    "        # get and store the naive accuracy (accuracy from just predicting the most thrown pitch)\n",
    "        naive_accuracy = round(max(pitch_type_counts.values()) / sum(pitch_type_counts.values()) * 100., 1)\n",
    "        naive_accuracy_list.append(naive_accuracy)\n",
    "\n",
    "        # print some input/results for every 10th pitcher\n",
    "        if i % 10 == 0:\n",
    "            print()\n",
    "            print(f\"Pitcher ID: {pitcher}\")\n",
    "            print(f\"Pitcher's pitch map: {pitch_map}\")\n",
    "            print(f\"Pitcher's pitch counter: {dict(pitch_type_counts)}\")\n",
    "            print(f\"Number of data points in training: {X_train.shape[0]}\")\n",
    "            print(f\"Number of data points in testing: {X_test.shape[0]}\")\n",
    "            print(f\"Best params: {xgb_opt.best_params_}\")\n",
    "            print(f\"Total training time: {dt.datetime.now()-start}\")\n",
    "            print(f\"Naive accuracy: {naive_accuracy}\")\n",
    "            print(f\"XGBooost accuracy: {accuracy}\")\n",
    "\n",
    "\n",
    "        # ----------------------------------------------------------\n",
    "        # write out the pitchers model and metadata to a pickle file\n",
    "        # ----------------------------------------------------------\n",
    "\n",
    "        # things to store in the pitcher's model file:\n",
    "        #  1) the map and unmap for pitches (used for data clean-up in the prediction process)\n",
    "        #  2) trained model (used to make prediction)\n",
    "        #  3) accuracy on the test data (to include with pitch predictions so user can see how confident the model is)\n",
    "        model_out = {\n",
    "            \"pitcherID\": pitcher,\n",
    "            \"pitch_map\": pitch_map,\n",
    "            \"pitch_unmap\": pitch_unmap,\n",
    "            \"model\": xgb_opt,\n",
    "            \"model_accuracy\": accuracy\n",
    "        }\n",
    "\n",
    "        # pickle up the pitcher's model file\n",
    "        fpath = \"../data/pitcher_models/2024/\" + str(pitcher) + \".pkl\"\n",
    "        with open(fpath, 'wb') as fobj:\n",
    "            pickle.dump(model_out, fobj)\n",
    "           \n",
    "    # return the accuracy lists so we can perform assessment \n",
    "    return accuracy_list, naive_accuracy_list"
   ]
  },
  {
   "cell_type": "code",
   "execution_count": 247,
   "metadata": {},
   "outputs": [
    {
     "name": "stdout",
     "output_type": "stream",
     "text": [
      "Number of pitchers that make the cut: 43\n",
      "\n",
      "Pitcher ID: 621244\n",
      "Pitcher's pitch map: {'MFastball': 0, 'Breaking Ball': 1, 'Off-Speed': 2, 'PFastball': 3}\n",
      "Pitcher's pitch counter: {'MFastball': 1074, 'Breaking Ball': 832, 'Off-Speed': 465, 'PFastball': 511}\n",
      "Number of data points in training: 2305\n",
      "Number of data points in testing: 577\n",
      "Best params: {'learning_rate': 0.1, 'max_depth': 2}\n",
      "Total training time: 0:00:02.184466\n",
      "Naive accuracy: 37.3\n",
      "XGBooost accuracy: 76.1\n",
      "\n",
      "Pitcher ID: 669923\n",
      "Pitcher's pitch map: {'MFastball': 0, 'Breaking Ball': 1, 'PFastball': 2}\n",
      "Pitcher's pitch counter: {'PFastball': 984, 'MFastball': 1001, 'Breaking Ball': 944}\n",
      "Number of data points in training: 2343\n",
      "Number of data points in testing: 586\n",
      "Best params: {'learning_rate': 0.4, 'max_depth': 2}\n",
      "Total training time: 0:00:01.809753\n",
      "Naive accuracy: 34.2\n",
      "XGBooost accuracy: 73.2\n",
      "\n",
      "Pitcher ID: 608331\n",
      "Pitcher's pitch map: {'Breaking Ball': 0, 'Off-Speed': 1, 'PFastball': 2, 'MFastball': 3}\n",
      "Pitcher's pitch counter: {'PFastball': 921, 'Breaking Ball': 916, 'Off-Speed': 376, 'MFastball': 564}\n",
      "Number of data points in training: 2221\n",
      "Number of data points in testing: 556\n",
      "Best params: {'learning_rate': 0.4, 'max_depth': 2}\n",
      "Total training time: 0:00:01.754782\n",
      "Naive accuracy: 33.2\n",
      "XGBooost accuracy: 77.2\n",
      "\n",
      "Pitcher ID: 519242\n",
      "Pitcher's pitch map: {'Breaking Ball': 0, 'Off-Speed': 1, 'PFastball': 2, 'MFastball': 3}\n",
      "Pitcher's pitch counter: {'PFastball': 1036, 'Breaking Ball': 1135, 'MFastball': 201, 'Off-Speed': 414}\n",
      "Number of data points in training: 2228\n",
      "Number of data points in testing: 558\n",
      "Best params: {'learning_rate': 0.1, 'max_depth': 2}\n",
      "Total training time: 0:00:01.403791\n",
      "Naive accuracy: 40.7\n",
      "XGBooost accuracy: 93.7\n",
      "\n",
      "Pitcher ID: 450203\n",
      "Pitcher's pitch map: {'Breaking Ball': 0, 'Off-Speed': 1, 'PFastball': 2, 'MFastball': 3}\n",
      "Pitcher's pitch counter: {'Breaking Ball': 1183, 'Off-Speed': 307, 'PFastball': 779, 'MFastball': 492}\n",
      "Number of data points in training: 2208\n",
      "Number of data points in testing: 553\n",
      "Best params: {'learning_rate': 0.1, 'max_depth': 5}\n",
      "Total training time: 0:00:01.682386\n",
      "Naive accuracy: 42.8\n",
      "XGBooost accuracy: 88.8\n"
     ]
    }
   ],
   "source": [
    "accuracy_list, naive_accuracy_list = train_xgb_models_2024(data3, pitch_count_cutoff=2750)"
   ]
  },
  {
   "cell_type": "code",
   "execution_count": 237,
   "metadata": {},
   "outputs": [
    {
     "data": {
      "text/plain": [
       "pitch_type\n",
       "PFastball        159740\n",
       "Breaking Ball    146338\n",
       "MFastball        139102\n",
       "Off-Speed         53755\n",
       "Name: count, dtype: int64"
      ]
     },
     "execution_count": 237,
     "metadata": {},
     "output_type": "execute_result"
    }
   ],
   "source": [
    "data3['pitch_type'].value_counts()"
   ]
  },
  {
   "cell_type": "code",
   "execution_count": 240,
   "metadata": {},
   "outputs": [
    {
     "data": {
      "text/plain": [
       "prev_pitch_type\n",
       "PFastball        154460\n",
       "Breaking Ball    144325\n",
       "MFastball        135605\n",
       "Off-Speed         53526\n",
       "Name: count, dtype: int64"
      ]
     },
     "execution_count": 240,
     "metadata": {},
     "output_type": "execute_result"
    }
   ],
   "source": [
    "data3['prev_pitch_type'].value_counts()"
   ]
  },
  {
   "cell_type": "code",
   "execution_count": 239,
   "metadata": {},
   "outputs": [],
   "source": [
    "data3 = data3[data3.prev_pitch_type != 'Unknown']"
   ]
  },
  {
   "cell_type": "markdown",
   "metadata": {},
   "source": [
    "---"
   ]
  },
  {
   "cell_type": "markdown",
   "metadata": {},
   "source": [
    "## Individual Pitcher Model Examination"
   ]
  },
  {
   "cell_type": "code",
   "execution_count": 249,
   "metadata": {},
   "outputs": [],
   "source": [
    "# Load pitcher model from pickle file\n",
    "\n",
    "def load_pitcher_model(pickle_path):\n",
    "    \"\"\"\n",
    "    Loads a pitcher model and metadata from a pickle file.\n",
    "    \n",
    "    Parameters:\n",
    "    - pickle_path: Path to the pickle file for the specific pitcher.\n",
    "\n",
    "    Returns:\n",
    "    - model_data: A dictionary containing the pitcher model and metadata.\n",
    "    \"\"\"\n",
    "    with open(pickle_path, 'rb') as file:\n",
    "        model_data = pickle.load(file)\n",
    "    return model_data"
   ]
  },
  {
   "cell_type": "code",
   "execution_count": null,
   "metadata": {},
   "outputs": [],
   "source": [
    "# Need this package to look up player names from player IDs\n",
    "from pybaseball import playerid_reverse_lookup"
   ]
  },
  {
   "cell_type": "code",
   "execution_count": 267,
   "metadata": {},
   "outputs": [
    {
     "name": "stdout",
     "output_type": "stream",
     "text": [
      "Pitcher Name: ['castillo' 'luis']\n",
      "Pitcher ID: 622491\n",
      "Pitch Map: {'MFastball': 0, 'Breaking Ball': 1, 'Off-Speed': 2, 'PFastball': 3}\n",
      "Model Accuracy: 80.6%\n"
     ]
    }
   ],
   "source": [
    "# Testing the function\n",
    "\n",
    "pitcher_id = \"622491\"  # Replace with the actual pitcher ID\n",
    "pickle_path = f\"../data/pitcher_models/{pitcher_id}.pkl\"  # Replace with your pickle file path\n",
    "pitcher_model_data = load_pitcher_model(pickle_path)\n",
    "\n",
    "# Accessing the content\n",
    "xgb_model = pitcher_model_data[\"model\"]\n",
    "pitch_map = pitcher_model_data[\"pitch_map\"]\n",
    "pitch_unmap = pitcher_model_data[\"pitch_unmap\"]\n",
    "model_accuracy = pitcher_model_data[\"model_accuracy\"]\n",
    "pitcher_name = playerid_reverse_lookup([int(pitcher_id)], key_type='mlbam').iloc[0, :2].values\n",
    "\n",
    "# Print details\n",
    "print(f\"Pitcher Name: {pitcher_name}\")\n",
    "print(f\"Pitcher ID: {pitcher_model_data['pitcherID']}\")\n",
    "print(f\"Pitch Map: {pitch_map}\")\n",
    "print(f\"Model Accuracy: {model_accuracy}%\")"
   ]
  },
  {
   "cell_type": "code",
   "execution_count": 269,
   "metadata": {},
   "outputs": [
    {
     "data": {
      "text/plain": [
       "{'pitcherID': 622491,\n",
       " 'pitch_map': {'MFastball': 0,\n",
       "  'Breaking Ball': 1,\n",
       "  'Off-Speed': 2,\n",
       "  'PFastball': 3},\n",
       " 'pitch_unmap': {0: 'MFastball',\n",
       "  1: 'Breaking Ball',\n",
       "  2: 'Off-Speed',\n",
       "  3: 'PFastball'},\n",
       " 'model': GridSearchCV(cv=5,\n",
       "              estimator=XGBClassifier(base_score=None, booster=None,\n",
       "                                      callbacks=None, colsample_bylevel=None,\n",
       "                                      colsample_bynode=None,\n",
       "                                      colsample_bytree=None, device=None,\n",
       "                                      early_stopping_rounds=None,\n",
       "                                      enable_categorical=False, eval_metric=None,\n",
       "                                      feature_types=None, gamma=None,\n",
       "                                      grow_policy=None, importance_type=None,\n",
       "                                      interaction_constraints=None,\n",
       "                                      learning_rate=None,...bin=None,\n",
       "                                      max_cat_threshold=None,\n",
       "                                      max_cat_to_onehot=None,\n",
       "                                      max_delta_step=None, max_depth=None,\n",
       "                                      max_leaves=None, min_child_weight=None,\n",
       "                                      missing=nan, monotone_constraints=None,\n",
       "                                      multi_strategy=None, n_estimators=None,\n",
       "                                      n_jobs=None, num_class=4,\n",
       "                                      num_parallel_tree=None, ...),\n",
       "              n_jobs=-1,\n",
       "              param_grid={'learning_rate': (0.01, 0.1, 0.4),\n",
       "                          'max_depth': (2, 5, 20)},\n",
       "              scoring='accuracy'),\n",
       " 'model_accuracy': 80.6}"
      ]
     },
     "execution_count": 269,
     "metadata": {},
     "output_type": "execute_result"
    }
   ],
   "source": [
    "pitcher_model_data"
   ]
  },
  {
   "cell_type": "code",
   "execution_count": 268,
   "metadata": {},
   "outputs": [],
   "source": [
    "from sklearn.metrics import confusion_matrix, ConfusionMatrixDisplay\n",
    "\n",
    "def plot_confusion_matrix(model, X_test, y_test, pitch_unmap):\n",
    "    \"\"\"\n",
    "    Plots a confusion matrix for the given model and test data.\n",
    "    \n",
    "    model: Trained XGBoost model\n",
    "    X_test: Features of the test set\n",
    "    y_test: True labels of the test set\n",
    "    pitch_unmap: Dictionary to convert numeric labels back to pitch types\n",
    "    \"\"\"\n",
    "    # Generate predictions\n",
    "    y_pred = model.predict(X_test)\n",
    "    \n",
    "    # Create the confusion matrix\n",
    "    cm = confusion_matrix(y_test, y_pred)\n",
    "    \n",
    "    # Get class labels from the unmap dictionary\n",
    "    labels = [pitch_unmap[i] for i in range(len(pitch_unmap))]\n",
    "    \n",
    "    # Display the confusion matrix as a heatmap\n",
    "    fig, ax = plt.subplots(figsize=(10, 8))\n",
    "    disp = ConfusionMatrixDisplay(confusion_matrix=cm, display_labels=labels)\n",
    "    disp.plot(cmap='Blues', ax=ax, values_format='d')\n",
    "    \n",
    "    plt.title(\"Confusion Matrix of XGBoost Model\")\n",
    "    plt.xticks(rotation=45)\n",
    "    plt.show()"
   ]
  },
  {
   "cell_type": "code",
   "execution_count": null,
   "metadata": {},
   "outputs": [],
   "source": [
    "plot_confusion_matrix(model=pitcher_model_data[\"model\"], X_test=X_test, y_test=y_test, pitch_unmap=pitch_unmap)"
   ]
  },
  {
   "cell_type": "markdown",
   "metadata": {},
   "source": [
    "---"
   ]
  },
  {
   "cell_type": "markdown",
   "metadata": {},
   "source": [
    "## Real-Time Prediction"
   ]
  },
  {
   "cell_type": "markdown",
   "metadata": {},
   "source": []
  },
  {
   "cell_type": "code",
   "execution_count": null,
   "metadata": {},
   "outputs": [],
   "source": [
    "def perform_prediction(input_data):\n",
    "        \n",
    "    input_df = pd.DataFrame(json.loads(input_data), index=[0])\n",
    "\n",
    "    input_df.fillna(value=pd.np.nan, inplace=True)\n",
    "\n",
    "    # select the columns to keep\n",
    "    cols_to_keep = ['pitcher_id', 'pitch_type', 'inning', 'top', 'pcount_at_bat', 'pcount_pitcher', \n",
    "                    'balls', 'strikes', 'fouls', 'outs', 'on_1b', 'on_2b', 'on_3b', \n",
    "                    'b_height', 'away_team_runs', 'home_team_runs', \n",
    "                    'p_throws', 'stand', 'type', 'vy0', 'break_length', 'break_angle',  'zone', 'date']\n",
    "    input_df = input_df[cols_to_keep]\n",
    "\n",
    "    # extract the month from the date for seasonality and drop date column\n",
    "    input_df['month'] = input_df['date'].apply(lambda x: dt.datetime.strptime(x, '%Y-%m-%d').month)\n",
    "    input_df.drop('date', axis=1, inplace=True)\n",
    "\n",
    "    # convert on_1b/on_2b/on_3b to boolean \n",
    "    input_df['on_1b'] = input_df['on_1b'].apply(lambda x: not np.isnan(x))\n",
    "    input_df['on_2b'] = input_df['on_2b'].apply(lambda x: not np.isnan(x))\n",
    "    input_df['on_3b'] = input_df['on_3b'].apply(lambda x: not np.isnan(x))\n",
    "\n",
    "    # handedness: does the batter hit from the same side that the pitcher is pitching from\n",
    "    input_df['stand_pitch_same_side'] = input_df['p_throws'] == input_df['stand'] \n",
    "    input_df.drop(['p_throws', 'stand'], axis=1, inplace=True)\n",
    "\n",
    "    # score differential\n",
    "    input_df['score_diff'] = -np.power(-1, input_df['top']) * (input_df['home_team_runs'] - input_df['away_team_runs'])\n",
    "    input_df.drop(['home_team_runs', 'away_team_runs'], axis=1, inplace=True)\n",
    "\n",
    "    # rename previous pitch columns\n",
    "    input_df.rename({'pitch_type': 'prev_pitch_type',\n",
    "                     'type': 'prev_pitch_outcome',\n",
    "                     'zone': 'prev_zone',\n",
    "                     'break_length': 'prev_break_length',\n",
    "                     'break_angle': 'prev_break_angle',\n",
    "                     'vy0': 'prev_pitch_velocity'}, axis=1, inplace=True)\n",
    "\n",
    "    # convert pitch velocity to mph\n",
    "    input_df['prev_pitch_velocity'] = round(-input_df['prev_pitch_velocity'] * (3600 / 5280), 0)\n",
    "\n",
    "    # convert height of batter to inches\n",
    "    def convert_height(x):\n",
    "        feet = re.findall('^[0-9]', x)[0]\n",
    "        inches = re.findall('.[0-9]$', x)[0]\n",
    "        return 12 * int(feet) + int(inches)\n",
    "    input_df['batter_height'] = input_df['b_height'].apply(convert_height)\n",
    "    input_df.drop('b_height', axis=1, inplace=True)\n",
    "\n",
    "    # map all fastball pitches into one pitch type (FB)\n",
    "    fastball_pitches = ['FA', 'FF', 'FT', 'FC', 'FS', 'SI', 'SF']\n",
    "    def map_fastballs(x):\n",
    "        if x in fastball_pitches:\n",
    "            return 'FB'\n",
    "        else:\n",
    "            return x\n",
    "    input_df['prev_pitch_type'] = input_df['prev_pitch_type'].apply(map_fastballs)\n",
    "\n",
    "    # map previous pitch outcomes to 0 (ball, B), 1 (strike, S), 2 (in-play, X)\n",
    "    def map_pitch_outcome(x):\n",
    "        if x == 'B':\n",
    "            return 0\n",
    "        elif x == 'S':\n",
    "            return 1\n",
    "        else:\n",
    "            return 2\n",
    "    input_df['prev_pitch_outcome'] = input_df['prev_pitch_outcome'].apply(map_pitch_outcome)\n",
    "\n",
    "    # read in the pitcher's model file\n",
    "    fpath = \"./data/pitcher_models/\" + str(input_df.iloc[0]['pitcher_id']) + \".pkl\"\n",
    "    with open(fpath, 'rb') as fobj:\n",
    "        pitcher_model = pickle.load(fobj)\n",
    "    input_df.drop('pitcher_id', axis=1, inplace=True)\n",
    "    \n",
    "    # map prev_pitch_type to int\n",
    "    input_df['prev_pitch_type'] = input_df['prev_pitch_type'].apply(lambda x: pitcher_model['pitch_map'][x])\n",
    "\n",
    "    # reorder column names\n",
    "    input_df = input_df[['inning', 'top', 'pcount_at_bat', 'pcount_pitcher', 'balls', 'strikes', 'fouls', \n",
    "                         'outs', 'on_1b', 'on_2b', 'on_3b', 'month', 'stand_pitch_same_side', 'score_diff', \n",
    "                         'prev_pitch_type', 'prev_pitch_outcome', 'prev_zone', 'prev_break_length', 'prev_break_angle', \n",
    "                         'prev_pitch_velocity', 'batter_height']]\n",
    "\n",
    "    pitch_probs = np.round(pitcher_model[\"model\"].predict_proba(input_df) * 100., 1)\n",
    "\n",
    "    # map back to pitch abbreviations and put in dict\n",
    "    pitch_probs_dict = {}\n",
    "    for i in range(len(pitcher_model['pitch_map'])):\n",
    "        pitch_probs_dict[pitcher_model['pitch_unmap'][i]] = pitch_probs[0][i]\n",
    "        \n",
    "    pitch_probs_dict['model_accuracy'] = pitcher_model['model_accuracy']\n",
    "    \n",
    "    return pitch_probs_dict"
   ]
  }
 ],
 "metadata": {
  "kernelspec": {
   "display_name": "learn-env",
   "language": "python",
   "name": "python3"
  },
  "language_info": {
   "codemirror_mode": {
    "name": "ipython",
    "version": 3
   },
   "file_extension": ".py",
   "mimetype": "text/x-python",
   "name": "python",
   "nbconvert_exporter": "python",
   "pygments_lexer": "ipython3",
   "version": "3.12.2"
  }
 },
 "nbformat": 4,
 "nbformat_minor": 2
}
