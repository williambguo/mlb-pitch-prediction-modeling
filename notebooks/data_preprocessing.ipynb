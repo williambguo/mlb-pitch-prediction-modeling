{
 "cells": [
  {
   "cell_type": "markdown",
   "metadata": {},
   "source": [
    "# Data Preprocessing"
   ]
  },
  {
   "cell_type": "markdown",
   "metadata": {},
   "source": [
    "In this notebook, I clean my data and perform feature selection in addition to feature engineering. \n",
    "\n",
    "I have chosen to use pitching data from five seasons (2019-2023) to train my models which I will then test on data from the 2024 season. The 2020 season was much shorter due to COVID-19 so I decided to include the 2019 season as an additional dataset. "
   ]
  },
  {
   "cell_type": "markdown",
   "metadata": {},
   "source": [
    "Operations on both pitch-by-pitch data and overall seasonal data.\n",
    "\n",
    "- Deal with missing values\n",
    "- Feature selection (100+ features likely not feasible for this project)\n",
    "- Dimensionality reduction on features\n",
    "- Feature engineering\n",
    "- Target variable modification (condensing pitch types down to less than 14 which is the current number of different pitch types on the MLB website)\n"
   ]
  },
  {
   "cell_type": "code",
   "execution_count": 12,
   "metadata": {},
   "outputs": [],
   "source": [
    "# Import libraries\n",
    "import pybaseball\n",
    "import pandas as pd\n",
    "import numpy as np \n",
    "import matplotlib.pyplot as plt\n",
    "import seaborn as sns\n",
    "from datetime import datetime, timedelta\n",
    "\n",
    "from pybaseball import pitching_stats_bref\n",
    "from pybaseball import statcast\n",
    "from pybaseball import statcast_pitcher\n",
    "from pybaseball import playerid_lookup\n",
    "from pybaseball import playerid_reverse_lookup\n",
    "\n",
    "from sklearn.model_selection import train_test_split, GridSearchCV\n",
    "from sklearn.linear_model import LogisticRegression\n",
    "from sklearn.ensemble import RandomForestClassifier\n",
    "from sklearn.svm import SVC, LinearSVC\n",
    "from xgboost import XGBClassifier\n",
    "from sklearn.metrics import accuracy_score"
   ]
  },
  {
   "cell_type": "code",
   "execution_count": 2,
   "metadata": {},
   "outputs": [],
   "source": [
    "# Suppress warnings\n",
    "import warnings\n",
    "warnings.filterwarnings(\"ignore\")"
   ]
  },
  {
   "cell_type": "markdown",
   "metadata": {},
   "source": [
    "## Load the data"
   ]
  },
  {
   "cell_type": "code",
   "execution_count": null,
   "metadata": {},
   "outputs": [],
   "source": [
    "# Pitch-by-pitch data from the 2019-2024 seasons\n",
    "pbp2019 = pd.read_csv('../data/pitch-by-pitch/pitch_by_pitch_2019.csv')\n",
    "pbp2020 = pd.read_csv('../data/pitch-by-pitch/pitch_by_pitch_2020.csv')\n",
    "pbp2021 = pd.read_csv('../data/pitch-by-pitch/pitch_by_pitch_2021.csv')\n",
    "pbp2022 = pd.read_csv('../data/pitch-by-pitch/pitch_by_pitch_2022.csv')\n",
    "pbp2023 = pd.read_csv('../data/pitch-by-pitch/pitch_by_pitch_2023.csv')\n",
    "pbp2024 = pd.read_csv('../data/pitch-by-pitch/pitch_by_pitch_2024.csv')"
   ]
  },
  {
   "cell_type": "code",
   "execution_count": null,
   "metadata": {},
   "outputs": [],
   "source": [
    "# Seasonal aggregate pitching data from the 2019-2024 seasons\n",
    "season2019 = pd.read_csv('../data/seasonal/pitching_stats_2019.csv')\n",
    "season2020 = pd.read_csv('../data/seasonal/pitching_stats_2020.csv')\n",
    "season2021 = pd.read_csv('../data/seasonal/pitching_stats_2021.csv')\n",
    "season2022 = pd.read_csv('../data/seasonal/pitching_stats_2022.csv')\n",
    "season2023 = pd.read_csv('../data/seasonal/pitching_stats_2023.csv')\n",
    "season2024 = pd.read_csv('../data/seasonal/pitching_stats_2024.csv')"
   ]
  },
  {
   "cell_type": "markdown",
   "metadata": {},
   "source": [
    "## Data Cleaning"
   ]
  },
  {
   "cell_type": "code",
   "execution_count": 10,
   "metadata": {},
   "outputs": [],
   "source": [
    "# Convert game_date to datetime in pitch-by-pitch data\n",
    "pbp2019['game_date'] = pd.to_datetime(pbp2019['game_date'])\n",
    "pbp2020['game_date'] = pd.to_datetime(pbp2020['game_date'])\n",
    "pbp2021['game_date'] = pd.to_datetime(pbp2021['game_date'])\n",
    "pbp2022['game_date'] = pd.to_datetime(pbp2022['game_date'])\n",
    "pbp2023['game_date'] = pd.to_datetime(pbp2023['game_date'])\n",
    "pbp2024['game_date'] = pd.to_datetime(pbp2024['game_date'])"
   ]
  },
  {
   "cell_type": "code",
   "execution_count": null,
   "metadata": {},
   "outputs": [],
   "source": []
  }
 ],
 "metadata": {
  "kernelspec": {
   "display_name": "learn-env",
   "language": "python",
   "name": "python3"
  },
  "language_info": {
   "codemirror_mode": {
    "name": "ipython",
    "version": 3
   },
   "file_extension": ".py",
   "mimetype": "text/x-python",
   "name": "python",
   "nbconvert_exporter": "python",
   "pygments_lexer": "ipython3",
   "version": "3.12.2"
  }
 },
 "nbformat": 4,
 "nbformat_minor": 2
}
